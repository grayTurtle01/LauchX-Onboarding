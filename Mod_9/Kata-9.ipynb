{
 "cells": [
  {
   "cell_type": "markdown",
   "metadata": {},
   "source": [
    "# Kata-9 [Functions]"
   ]
  },
  {
   "cell_type": "markdown",
   "metadata": {},
   "source": [
    "### Excercise 1"
   ]
  },
  {
   "cell_type": "code",
   "execution_count": 7,
   "metadata": {},
   "outputs": [],
   "source": [
    "# Define a function than calculate the average\n",
    "def generate_report(tank1, tank2, tank3):\n",
    "    average = (tank1 + tank2 + tank3)/3\n",
    "    return(f\"\"\"Fuel Report:\n",
    "    Average: {average}\n",
    "    First Tank: {tank1}\n",
    "    Second Tank: {tank2}\n",
    "    Third Tank: {tank3} \n",
    "    \"\"\")"
   ]
  },
  {
   "cell_type": "code",
   "execution_count": 9,
   "metadata": {},
   "outputs": [
    {
     "name": "stdout",
     "output_type": "stream",
     "text": [
      "Fuel Report:\n",
      "    Average: 20.0\n",
      "    First Tank: 10\n",
      "    Second Tank: 20\n",
      "    Third Tank: 30 \n",
      "    \n"
     ]
    }
   ],
   "source": [
    "# Print report\n",
    "print(generate_report(10, 20, 30))"
   ]
  },
  {
   "cell_type": "code",
   "execution_count": 10,
   "metadata": {},
   "outputs": [
    {
     "data": {
      "text/plain": [
       "20.0"
      ]
     },
     "execution_count": 10,
     "metadata": {},
     "output_type": "execute_result"
    }
   ],
   "source": [
    "# Create average function\n",
    "def get_average(values):\n",
    "    total = sum(values)\n",
    "    return total/len(values)\n",
    "\n",
    "get_average([10, 20, 30])"
   ]
  },
  {
   "cell_type": "code",
   "execution_count": 12,
   "metadata": {},
   "outputs": [
    {
     "name": "stdout",
     "output_type": "stream",
     "text": [
      "Fuel Report:\n",
      "    Average: 20.0\n",
      "    First Tank: 10\n",
      "    Second Tank: 20\n",
      "    Third Tank: 30 \n",
      "    \n"
     ]
    }
   ],
   "source": [
    "# Update report function\n",
    "def generate_report_2(tank1, tank2, tank3):\n",
    "    average = get_average([tank1, tank2, tank3])\n",
    "    return(f\"\"\"Fuel Report:\n",
    "    Average: {average}\n",
    "    First Tank: {tank1}\n",
    "    Second Tank: {tank2}\n",
    "    Third Tank: {tank3} \n",
    "    \"\"\")\n",
    "\n",
    "print(generate_report_2(10, 20, 30))"
   ]
  },
  {
   "cell_type": "markdown",
   "metadata": {},
   "source": [
    "### Excercise 2"
   ]
  },
  {
   "cell_type": "code",
   "execution_count": 3,
   "metadata": {},
   "outputs": [
    {
     "name": "stdout",
     "output_type": "stream",
     "text": [
      " \n",
      "    Mission to Moon\n",
      "    Total travel time: 60\n",
      "    Total fuel left: 400000 \n",
      "    \n"
     ]
    }
   ],
   "source": [
    "# Define a better report function\n",
    "def mission_report(pre_lauch_time, flight_time, destination, external_tank, main_tank):\n",
    "    return f\"\"\" \n",
    "    Mission to {destination} minutes\n",
    "    Total travel time: {pre_lauch_time  + flight_time}\n",
    "    Total fuel left: {external_tank + main_tank} \n",
    "    \"\"\"\n",
    "\n",
    "print(mission_report(15, 45, 'Moon', 100000, 300000))"
   ]
  },
  {
   "cell_type": "code",
   "execution_count": 4,
   "metadata": {},
   "outputs": [
    {
     "name": "stdout",
     "output_type": "stream",
     "text": [
      " \n",
      "    Mission to Moon\n",
      "    Total travel time: 80 minutes\n",
      "    Total fuel left: 300000 \n",
      "    \n"
     ]
    }
   ],
   "source": [
    "#Define a report function with undefined number of parameters\n",
    "def mission_report_2(destination, *minutes, **fuel):\n",
    "    return f\"\"\" \n",
    "    Mission to {destination}\n",
    "    Total travel time: { sum(minutes)} minutes\n",
    "    Total fuel left: {sum( fuel.values() )} \n",
    "    \"\"\"\n",
    "\n",
    "print( mission_report_2('Moon', 20, 60, main=200000, external=100000))"
   ]
  }
 ],
 "metadata": {
  "interpreter": {
   "hash": "aee8b7b246df8f9039afb4144a1f6fd8d2ca17a180786b69acc140d282b71a49"
  },
  "kernelspec": {
   "display_name": "Python 3.9.6 64-bit",
   "language": "python",
   "name": "python3"
  },
  "language_info": {
   "codemirror_mode": {
    "name": "ipython",
    "version": 3
   },
   "file_extension": ".py",
   "mimetype": "text/x-python",
   "name": "python",
   "nbconvert_exporter": "python",
   "pygments_lexer": "ipython3",
   "version": "3.9.6"
  },
  "orig_nbformat": 4
 },
 "nbformat": 4,
 "nbformat_minor": 2
}
