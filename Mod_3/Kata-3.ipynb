{
 "cells": [
  {
   "cell_type": "markdown",
   "metadata": {},
   "source": [
    "# Kata-3 (Asteroide)"
   ]
  },
  {
   "cell_type": "markdown",
   "metadata": {},
   "source": [
    "### Ejercicio-1 (if-else) :cat:"
   ]
  },
  {
   "cell_type": "code",
   "execution_count": 7,
   "metadata": {},
   "outputs": [
    {
     "name": "stdout",
     "output_type": "stream",
     "text": [
      "!!Peligro¡¡ el asteroide tiene una velocidad peligrosa\n"
     ]
    }
   ],
   "source": [
    "# Variable que guarda la velocidad del asteroide (km/s)\n",
    "asteroide_vel = 49\n",
    "\n",
    "# Detector de peligro\n",
    "if asteroide_vel > 25:\n",
    "    print(\"!!Peligro¡¡ el asteroide tiene una velocidad peligrosa\")\n",
    "else:\n",
    "    print(\"El asteroide no representa una amenaza\")"
   ]
  },
  {
   "cell_type": "code",
   "execution_count": 8,
   "metadata": {},
   "outputs": [
    {
     "name": "stdout",
     "output_type": "stream",
     "text": [
      "No se vera ningun rayo de luz\n"
     ]
    }
   ],
   "source": [
    "asteroide_vel = 19\n",
    "\n",
    "# Alerta de Rayo de luz\n",
    "if asteroide_vel > 25:\n",
    "     print(\"!!Peligro¡¡ el asteroide tiene una velocidad peligrosa\")\n",
    "elif asteroide_vel >= 20:\n",
    "    print(\"Atencion un rayo de luz aparecera en el cielo\")\n",
    "else:\n",
    "    print(\"No se vera ningun rayo de luz\")"
   ]
  },
  {
   "cell_type": "markdown",
   "metadata": {},
   "source": [
    "### Ejercicio-2 (and or)"
   ]
  },
  {
   "cell_type": "code",
   "execution_count": 19,
   "metadata": {},
   "outputs": [
    {
     "name": "stdout",
     "output_type": "stream",
     "text": [
      "Atencion: un rayo de luz aparecera en el cielo\n"
     ]
    }
   ],
   "source": [
    "# Variables del asteroide\n",
    "asteroide_largo = 25   # [metros]\n",
    "asteroide_vel = 40   # [km/s]\n",
    "\n",
    "#Sistema de Alarma\n",
    "if asteroide_largo > 25 and asteroide_vel > 25:\n",
    "    print(\"!! Peligro¡¡ El asterioide represeanta una amenza\")\n",
    "elif asteroide_vel >= 20:\n",
    "    print(\"Atencion: un rayo de luz aparecera en el cielo\")\n",
    "elif asteroide_largo <= 25:\n",
    "    print(\"El asteroide se desintegrara\")\n",
    "else:\n",
    "    print(\"Nada interesante pasará\")\n",
    "\n"
   ]
  }
 ],
 "metadata": {
  "interpreter": {
   "hash": "aee8b7b246df8f9039afb4144a1f6fd8d2ca17a180786b69acc140d282b71a49"
  },
  "kernelspec": {
   "display_name": "Python 3.9.6 64-bit",
   "language": "python",
   "name": "python3"
  },
  "language_info": {
   "codemirror_mode": {
    "name": "ipython",
    "version": 3
   },
   "file_extension": ".py",
   "mimetype": "text/x-python",
   "name": "python",
   "nbconvert_exporter": "python",
   "pygments_lexer": "ipython3",
   "version": "3.9.6"
  },
  "orig_nbformat": 4
 },
 "nbformat": 4,
 "nbformat_minor": 2
}
